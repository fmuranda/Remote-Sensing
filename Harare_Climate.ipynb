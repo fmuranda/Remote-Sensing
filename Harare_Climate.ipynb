{
  "nbformat": 4,
  "nbformat_minor": 0,
  "metadata": {
    "colab": {
      "provenance": [],
      "authorship_tag": "ABX9TyMl4nXG+tPQQcNLFQwkR6B7"
    },
    "kernelspec": {
      "name": "python3",
      "display_name": "Python 3"
    },
    "language_info": {
      "name": "python"
    }
  },
  "cells": [
    {
      "cell_type": "code",
      "execution_count": 1,
      "metadata": {
        "id": "i-41T-5k9D7r"
      },
      "outputs": [],
      "source": [
        "\n",
        "import ee"
      ]
    },
    {
      "cell_type": "code",
      "source": [
        "# Trigger the authentication flow.\n",
        "ee.Authenticate()\n",
        "\n",
        "# Initialize the library.\n",
        "ee.Initialize(project='harare-ndvi-project')"
      ],
      "metadata": {
        "id": "8YNMpGO99Rrw"
      },
      "execution_count": 2,
      "outputs": []
    },
    {
      "cell_type": "markdown",
      "source": [
        " Define Area of Interest and Time Range"
      ],
      "metadata": {
        "id": "E3G7sHd-KBlu"
      }
    },
    {
      "cell_type": "code",
      "source": [
        "# Define the area of interest - Harare, Zimbabwe\n",
        "harare = ee.Geometry.Point(31.0522, -17.8292).buffer(15000)  # 30 km radius\n",
        "\n",
        "# Set the time range for October 2024\n",
        "start_date = '2024-10-01'\n",
        "end_date = '2024-10-31'"
      ],
      "metadata": {
        "id": "0yYIu2i5KFfB"
      },
      "execution_count": null,
      "outputs": []
    },
    {
      "cell_type": "markdown",
      "source": [
        "Cloud Masking Function"
      ],
      "metadata": {
        "id": "jnt9Dkp-KNRf"
      }
    },
    {
      "cell_type": "code",
      "source": [
        "# Mask clouds using the 'pixel_qa' band\n",
        "def mask_clouds(image):\n",
        "    cloud_shadow = 1 << 3\n",
        "    clouds = 1 << 5\n",
        "    qa = image.select('pixel_qa')\n",
        "    mask = qa.bitwiseAnd(cloud_shadow).eq(0).And(\n",
        "           qa.bitwiseAnd(clouds).eq(0))\n",
        "    return image.updateMask(mask)"
      ],
      "metadata": {
        "id": "vL_ugOT_KPqs"
      },
      "execution_count": null,
      "outputs": []
    },
    {
      "cell_type": "code",
      "source": [],
      "metadata": {
        "id": "UNEwYTAEKSVj"
      },
      "execution_count": null,
      "outputs": []
    },
    {
      "cell_type": "markdown",
      "source": [
        "Load and Prepare Landsat Data"
      ],
      "metadata": {
        "id": "WtWt9vk1KX20"
      }
    },
    {
      "cell_type": "code",
      "source": [
        "# Load Landsat 8/9 Surface Reflectance and Thermal data\n",
        "landsat = ee.ImageCollection('LANDSAT/LC08/C02/T1_L2') \\\n",
        "    .filterBounds(harare) \\\n",
        "    .filterDate(start_date, end_date) \\\n",
        "    .map(mask_clouds) \\\n",
        "    .median()\n",
        "\n",
        "# Apply scaling factors to optical and thermal bands\n",
        "def apply_scaling(image):\n",
        "    optical = image.select(['SR_B2', 'SR_B3', 'SR_B4', 'SR_B5']) \\\n",
        "        .multiply(0.0000275).add(-0.2)\n",
        "    thermal = image.select('ST_B10') \\\n",
        "        .multiply(0.00341802).add(149.0)\n",
        "    return image.addBands(optical, overwrite=True).addBands(thermal, overwrite=True)\n",
        "\n",
        "landsat = apply_scaling(landsat)"
      ],
      "metadata": {
        "id": "QWwAlCYtKYe0"
      },
      "execution_count": null,
      "outputs": []
    },
    {
      "cell_type": "markdown",
      "source": [
        "Calculate NDVI and Emissivity"
      ],
      "metadata": {
        "id": "aAENS_67KhSC"
      }
    },
    {
      "cell_type": "code",
      "source": [
        "# Compute NDVI\n",
        "ndvi = landsat.normalizedDifference(['SR_B5', 'SR_B4']).rename('NDVI')\n",
        "\n",
        "# Estimate emissivity from NDVI\n",
        "def calculate_emissivity(ndvi):\n",
        "    # Proportional vegetation\n",
        "    pv = ndvi.subtract(0.2).divide(0.3).clamp(0, 1).pow(2)\n",
        "    # Emissivity formula\n",
        "    emissivity = pv.multiply(0.004).add(0.986)\n",
        "    return emissivity.rename('emissivity')\n",
        "\n",
        "emissivity = calculate_emissivity(ndvi)"
      ],
      "metadata": {
        "id": "tDLalU6nKh-D"
      },
      "execution_count": null,
      "outputs": []
    },
    {
      "cell_type": "markdown",
      "source": [
        "Calculate Brightness Temperature and LST"
      ],
      "metadata": {
        "id": "QVZ9l0nGKqR9"
      }
    },
    {
      "cell_type": "code",
      "source": [
        "# Select Brightness Temperature (in Kelvin)\n",
        "bt = landsat.select('ST_B10').rename('BT')\n",
        "\n",
        "# Calculate LST using Single Channel Algorithm\n",
        "def calculate_lst(bt, emissivity):\n",
        "    wavelength = 10.895  # μm\n",
        "    p = 14388  # Planck constant * c / σ\n",
        "    lst = bt.divide(\n",
        "        ee.Image(1).add(\n",
        "            wavelength.multiply(bt).divide(emissivity.multiply(p)).log()\n",
        "        )\n",
        "    ).subtract(273.15)  # Convert Kelvin to Celsius\n",
        "    return lst.rename('LST')\n",
        "\n",
        "lst = calculate_lst(bt, emissivity)"
      ],
      "metadata": {
        "id": "8TRG23pZKq_I"
      },
      "execution_count": null,
      "outputs": []
    },
    {
      "cell_type": "markdown",
      "source": [
        "Combine Layers and Visualize"
      ],
      "metadata": {
        "id": "Td3TSX0IKuur"
      }
    },
    {
      "cell_type": "code",
      "source": [
        "# Combine bands for export/visualization\n",
        "final_image = landsat.addBands([ndvi, emissivity, bt, lst])\n",
        "\n",
        "# Optional visualization using geemap\n",
        "import geemap\n",
        "Map = geemap.Map(center=[-17.8292, 31.0522], zoom=10)\n",
        "\n",
        "lst_vis = {'min': 20, 'max': 45, 'palette': ['blue', 'green', 'yellow', 'orange', 'red']}\n",
        "Map.addLayer(lst, lst_vis, 'LST (°C) - Oct 2024')\n",
        "Map.addLayer(ndvi, {'min': 0, 'max': 1, 'palette': ['white', 'green']}, 'NDVI')\n",
        "Map.addLayer(emissivity, {'min': 0.97, 'max': 0.99}, 'Emissivity')\n",
        "Map.addLayerControl()\n",
        "Map"
      ],
      "metadata": {
        "id": "1bbFUNTKKwq0"
      },
      "execution_count": null,
      "outputs": []
    },
    {
      "cell_type": "markdown",
      "source": [],
      "metadata": {
        "id": "eWfunmrkKut0"
      }
    }
  ]
}